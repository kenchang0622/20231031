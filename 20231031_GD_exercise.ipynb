{
  "nbformat": 4,
  "nbformat_minor": 0,
  "metadata": {
    "colab": {
      "provenance": []
    },
    "kernelspec": {
      "name": "python3",
      "display_name": "Python 3"
    },
    "language_info": {
      "name": "python"
    }
  },
  "cells": [
    {
      "cell_type": "code",
      "source": [
        "a=int(input('請輸入一個數字'))\n",
        "check = 0\n",
        "if a<=1:\n",
        "  print('錯誤')\n",
        "else:\n",
        "  for i in range(1,(a+1)):\n",
        "    if a % i == 0 and i!=1 and i!=a:\n",
        "      check=1\n",
        "  if check==0:\n",
        "    print(a)\n",
        "  if check !=0:\n",
        "    max=0\n",
        "    for i in range(1,(a+1)):\n",
        "      check=0\n",
        "      for j in range(1,(a+1)):\n",
        "        if i%j==0 and j!=1 and j!=i:\n",
        "          check=1\n",
        "      if check !=1:\n",
        "        max=i\n",
        "  print(max)"
      ],
      "metadata": {
        "colab": {
          "base_uri": "https://localhost:8080/"
        },
        "id": "qHZYNoWN2zz2",
        "outputId": "93a6e0e4-f599-4c2f-ab9c-d685553040e7"
      },
      "execution_count": null,
      "outputs": [
        {
          "output_type": "stream",
          "name": "stdout",
          "text": [
            "請輸入一個數字25\n",
            "23\n"
          ]
        }
      ]
    },
    {
      "cell_type": "code",
      "source": [
        "num = input('請輸入數字：')\n",
        "num_l = num.split(',')\n",
        "num_list = [int(i) for i in num_l]\n",
        "print_list = []\n",
        "for i in range(len(num_list)):\n",
        "  print_list.append(0)\n",
        "for i in range(len(num_list)):\n",
        "  count = 0\n",
        "  for j in range(len(num_list)):\n",
        "      if num_list[j] < num_list[i]:\n",
        "        count += 1\n",
        "  print_list[i] = count\n",
        "print(print_list)\n"
      ],
      "metadata": {
        "colab": {
          "base_uri": "https://localhost:8080/"
        },
        "id": "msVA32Wg2rz2",
        "outputId": "8ca3aaa9-7928-4437-f38f-b4f7e3b1a280"
      },
      "execution_count": null,
      "outputs": [
        {
          "output_type": "stream",
          "name": "stdout",
          "text": [
            "請輸入數字：53,15,67\n",
            "[1, 0, 2]\n"
          ]
        }
      ]
    },
    {
      "cell_type": "code",
      "source": [
        "def minOperations(boxes):\n",
        "    n = len(boxes)\n",
        "    vegetable = [0] * n\n",
        "\n",
        "\n",
        "    left_balls, left_vegetable = 0, 0\n",
        "    for i in range(n):\n",
        "        vegetable[i] += left_vegetable\n",
        "        left_balls += int(boxes[i])\n",
        "        left_vegetable += left_balls\n",
        "\n",
        "\n",
        "    right_balls, right_vegetable = 0, 0\n",
        "    for i in range(n - 1, -1, -1):\n",
        "        vegetable[i] += right_vegetable\n",
        "        right_balls += int(boxes[i])\n",
        "        right_vegetable += right_balls\n",
        "\n",
        "    return vegetable\n",
        "\n",
        "boxes = input(\"輸入：\")\n",
        "\n",
        "\n",
        "vegetable = minOperations(boxes)\n",
        "\n",
        "print(\"ans：\", vegetable)\n"
      ],
      "metadata": {
        "colab": {
          "base_uri": "https://localhost:8080/"
        },
        "id": "xMBlbG13k5ho",
        "outputId": "6f541281-eb0a-49c8-8a14-a10d9de9620c"
      },
      "execution_count": null,
      "outputs": [
        {
          "output_type": "stream",
          "name": "stdout",
          "text": [
            "輸入：01101\n",
            "ans： [7, 4, 3, 4, 5]\n"
          ]
        }
      ]
    },
    {
      "cell_type": "code",
      "source": [],
      "metadata": {
        "id": "jlJ2xxfb2nPH"
      },
      "execution_count": null,
      "outputs": []
    }
  ]
}